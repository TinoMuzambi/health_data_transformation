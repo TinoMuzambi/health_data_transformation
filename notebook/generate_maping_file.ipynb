{
 "cells": [
  {
   "cell_type": "markdown",
   "id": "6c9d0515",
   "metadata": {},
   "source": [
    "## 1. Load main functions"
   ]
  },
  {
   "cell_type": "code",
   "execution_count": 46,
   "id": "052281f1-cf8d-4d57-a8ea-d4eb7acd3b14",
   "metadata": {},
   "outputs": [],
   "source": [
    "from pprint import pprint\n",
    "import pandas as pd\n",
    "import json\n",
    "import argparse\n",
    "\n",
    "def generate_mapping_from_json(json_file, mapping_file):\n",
    "    \"\"\"_summary_\n",
    "    \"\"\"\n",
    "\n",
    "    with open(json_file) as f:\n",
    "        data = json.load(f)\n",
    "    results = {}\n",
    "    header = ''\n",
    "    for prop in data['properties']:\n",
    "        if data['properties'][prop]['type'] == 'object':\n",
    "            if prop in data['required']:\n",
    "                variables = data['properties'][prop]['properties']\n",
    "                variables['record_id'] = {\n",
    "                    'description': 'Record ID', 'type': 'autonumber'}\n",
    "                for var in variables:\n",
    "                    if 'enum' in variables[var]:\n",
    "                        options = variables[var]['enum']\n",
    "                        variables[var]['coding'] = '|'.join(\n",
    "                            [f'{options.index(it)+1},{it}' for it in variables[var]['enum']])\n",
    "                        variables[var]['enum'] = 'single_choice'\n",
    "                    else:\n",
    "                        variables[var]['coding'] = ''\n",
    "                    for it in variables[var]:\n",
    "                        if 'type' in variables[var]:\n",
    "                            if 'string' in variables[var]['type']:\n",
    "                                variables[var]['type'] = 'text'\n",
    "                    study_format = ''\n",
    "                    mapping = f'{var}='\n",
    "                    if 'record_id' in var:\n",
    "                        study_format = 'automated'\n",
    "                    results[f'{list(variables.keys()).index(var)+1}'] = ['',\n",
    "                                                                        '', '', study_format, var]+[val for val in variables[var].values()]\n",
    "                    results[f'{list(variables.keys()).index(var)+1}'].append(mapping)\n",
    "                    if header == '':\n",
    "                        header = ['Study Variable Name', 'Study Variable Description', 'Study Variable Coding',\n",
    "                                'Study Variable Format', 'NEW Variable Name']+list(variables[var].keys())\n",
    "                        for h in range(len(header)):\n",
    "                            if header[h] == 'type':\n",
    "                                header[h] = 'NEW Variable Format'\n",
    "                            if header[h] == 'description':\n",
    "                                header[h] = 'NEW Variable Description'\n",
    "                            if header[h] == 'coding':\n",
    "                                header[h] = 'NEW Variable Coding'\n",
    "                        header.append('NEW to Study Mapping')\n",
    "\n",
    "    res = pd.DataFrame.from_dict(results, orient='index', columns=header)\n",
    "    res.to_excel(f'{mapping_file}', index=None, header=True)\n"
   ]
  },
  {
   "cell_type": "markdown",
   "id": "a0843d47",
   "metadata": {},
   "source": [
    "## 2. Datasets"
   ]
  },
  {
   "cell_type": "code",
   "execution_count": 48,
   "id": "80445307-3613-464a-bb67-b5d55c529bf7",
   "metadata": {},
   "outputs": [],
   "source": [
    "json_file = \"/Users/mamana/Projects/cvd/data/2022/19_05_22/cineca.minimal.json\"\n",
    "out_mapping_file = \"/Users/mamana/Projects/cvd/data/2022/19_05_22/cineca.minimal.json.xlsx\""
   ]
  },
  {
   "cell_type": "code",
   "execution_count": 49,
   "id": "88c70873-f24f-4634-8e9b-75c4af12632a",
   "metadata": {},
   "outputs": [],
   "source": [
    "generate_mapping_from_json(json_file, out_mapping_file)"
   ]
  }
 ],
 "metadata": {
  "kernelspec": {
   "display_name": "Python 3.9.7 ('base')",
   "language": "python",
   "name": "python3"
  },
  "language_info": {
   "codemirror_mode": {
    "name": "ipython",
    "version": 3
   },
   "file_extension": ".py",
   "mimetype": "text/x-python",
   "name": "python",
   "nbconvert_exporter": "python",
   "pygments_lexer": "ipython3",
   "version": "3.9.7"
  },
  "vscode": {
   "interpreter": {
    "hash": "ed4de02e4dcb4fb3b23c7c0e8b89bccef2b0507141cf6920e772baff5dcc8cc2"
   }
  }
 },
 "nbformat": 4,
 "nbformat_minor": 5
}
